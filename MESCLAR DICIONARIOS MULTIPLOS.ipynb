{
 "cells": [
  {
   "cell_type": "code",
   "execution_count": null,
   "id": "initial_id",
   "metadata": {
    "collapsed": true
   },
   "outputs": [],
   "source": [
    ""
   ]
  },
  {
   "metadata": {
    "ExecuteTime": {
     "end_time": "2025-10-19T06:01:43.465118Z",
     "start_time": "2025-10-19T06:01:43.455721Z"
    }
   },
   "cell_type": "code",
   "source": [
    "import json\n",
    "from pathlib import Path\n",
    "\n",
    "print(\"🔄 MESCLANDO DICIONÁRIOS...\\n\")\n",
    "\n",
    "# ═══════════════════════════════════════════════════════════════\n",
    "# 1. LER DICIONÁRIO MASTER (completo)\n",
    "# ═══════════════════════════════════════════════════════════════\n",
    "\n",
    "master_path = Path('05_Dicionarios/DICIONARIO_MASTER.json')\n",
    "\n",
    "if not master_path.exists():\n",
    "    raise FileNotFoundError(f\"❌ MASTER não encontrado: {master_path}\")\n",
    "\n",
    "with open(master_path, 'r', encoding='utf-8') as f:\n",
    "    master = json.load(f)\n",
    "\n",
    "print(f\"✅ MASTER carregado:\")\n",
    "print(f\"   - Campos conhecidos: {len(master.get('campos_conhecidos', {}))}\")\n",
    "print(f\"   - Arquivos histórico: {len(master.get('historico_arquivos', []))}\")\n",
    "\n",
    "# ═══════════════════════════════════════════════════════════════\n",
    "# 2. LER DICIONÁRIO PERSISTENTE (atual)\n",
    "# ═══════════════════════════════════════════════════════════════\n",
    "\n",
    "persistente_path = Path('04_Logs/DICT_Dicionario_Persistente.json')\n",
    "\n",
    "if persistente_path.exists():\n",
    "    with open(persistente_path, 'r', encoding='utf-8') as f:\n",
    "        persistente = json.load(f)\n",
    "    print(f\"\\n✅ PERSISTENTE carregado:\")\n",
    "    print(f\"   - Arquivos processados: {len(persistente.get('arquivos', {}))}\")\n",
    "else:\n",
    "    persistente = {}\n",
    "    print(f\"\\n⚠️  PERSISTENTE não existe - será criado\")\n",
    "\n",
    "# ═══════════════════════════════════════════════════════════════\n",
    "# 3. MESCLAR (preservar tudo)\n",
    "# ═══════════════════════════════════════════════════════════════\n",
    "\n",
    "dicionario_final = {\n",
    "    \"versao\": \"3.0\",\n",
    "    \"criado_em\": master.get(\"criado_em\"),\n",
    "    \"ultima_atualizacao\": master.get(\"ultima_atualizacao\"),\n",
    "\n",
    "    # COPIAR campos_conhecidos do MASTER\n",
    "    \"campos_conhecidos\": master.get(\"campos_conhecidos\", {}),\n",
    "\n",
    "    # MANTER arquivos do PERSISTENTE\n",
    "    \"arquivos\": persistente.get(\"arquivos\", {}),\n",
    "\n",
    "    # COPIAR histórico do MASTER\n",
    "    \"historico_arquivos\": master.get(\"historico_arquivos\", [])\n",
    "}\n",
    "\n",
    "# ═══════════════════════════════════════════════════════════════\n",
    "# 4. SALVAR (com backup)\n",
    "# ═══════════════════════════════════════════════════════════════\n",
    "\n",
    "# Backup do arquivo antigo\n",
    "if persistente_path.exists():\n",
    "    backup_path = persistente_path.with_suffix('.json.backup')\n",
    "    with open(backup_path, 'w', encoding='utf-8') as f:\n",
    "        json.dump(persistente, f, indent=2, ensure_ascii=False)\n",
    "    print(f\"\\n💾 Backup salvo: {backup_path.name}\")\n",
    "\n",
    "# Salvar mesclado\n",
    "with open(persistente_path, 'w', encoding='utf-8') as f:\n",
    "    json.dump(dicionario_final, f, indent=2, ensure_ascii=False)\n",
    "\n",
    "print(f\"\\n✅ DICIONÁRIO ATUALIZADO: {persistente_path.name}\")\n",
    "print(f\"\\n📊 RESUMO FINAL:\")\n",
    "print(f\"   ✅ Campos conhecidos: {len(dicionario_final['campos_conhecidos'])}\")\n",
    "print(f\"   ✅ Arquivos processados: {len(dicionario_final['arquivos'])}\")\n",
    "print(f\"   ✅ Histórico: {len(dicionario_final['historico_arquivos'])}\")\n",
    "\n",
    "print(\"\\n\" + \"=\"*70)\n",
    "print(\"✨ PRONTO! Agora o notebook vai detectar corretamente!\")\n",
    "print(\"=\"*70)"
   ],
   "id": "f1acb8d7bd5ed32",
   "outputs": [
    {
     "name": "stdout",
     "output_type": "stream",
     "text": [
      "🔄 MESCLANDO DICIONÁRIOS...\n",
      "\n",
      "✅ MASTER carregado:\n",
      "   - Campos conhecidos: 5\n",
      "   - Arquivos histórico: 3\n",
      "\n",
      "✅ PERSISTENTE carregado:\n",
      "   - Arquivos processados: 2\n",
      "\n",
      "💾 Backup salvo: DICT_Dicionario_Persistente.json.backup\n",
      "\n",
      "✅ DICIONÁRIO ATUALIZADO: DICT_Dicionario_Persistente.json\n",
      "\n",
      "📊 RESUMO FINAL:\n",
      "   ✅ Campos conhecidos: 5\n",
      "   ✅ Arquivos processados: 2\n",
      "   ✅ Histórico: 3\n",
      "\n",
      "======================================================================\n",
      "✨ PRONTO! Agora o notebook vai detectar corretamente!\n",
      "======================================================================\n"
     ]
    }
   ],
   "execution_count": 1
  },
  {
   "metadata": {},
   "cell_type": "code",
   "outputs": [],
   "execution_count": null,
   "source": "",
   "id": "6e2f50d6cedb5046"
  }
 ],
 "metadata": {
  "kernelspec": {
   "display_name": "Python 3",
   "language": "python",
   "name": "python3"
  },
  "language_info": {
   "codemirror_mode": {
    "name": "ipython",
    "version": 2
   },
   "file_extension": ".py",
   "mimetype": "text/x-python",
   "name": "python",
   "nbconvert_exporter": "python",
   "pygments_lexer": "ipython2",
   "version": "2.7.6"
  }
 },
 "nbformat": 4,
 "nbformat_minor": 5
}
